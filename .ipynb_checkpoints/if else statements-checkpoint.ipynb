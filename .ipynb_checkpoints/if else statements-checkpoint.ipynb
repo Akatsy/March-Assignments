{
 "cells": [
  {
   "cell_type": "code",
   "execution_count": 1,
   "id": "ad159e32",
   "metadata": {},
   "outputs": [],
   "source": [
    "## python  ... if / else statement\n",
    "## python conditions and if statements\n",
    "\n",
    "#  Equals ==                  e.g a == b\n",
    "# not equal !=                e.g a != b\n",
    "# less than <                  e.g a < b\n",
    "# greater than >               e.g a > b\n",
    "# greater than or eqaul to >=   e.g a >= b\n",
    "# less than or eqaul to <=b     e.g a <= b\n",
    "\n"
   ]
  },
  {
   "cell_type": "code",
   "execution_count": null,
   "id": "ead2c6b7",
   "metadata": {},
   "outputs": [],
   "source": []
  }
 ],
 "metadata": {
  "kernelspec": {
   "display_name": "Python 3 (ipykernel)",
   "language": "python",
   "name": "python3"
  },
  "language_info": {
   "codemirror_mode": {
    "name": "ipython",
    "version": 3
   },
   "file_extension": ".py",
   "mimetype": "text/x-python",
   "name": "python",
   "nbconvert_exporter": "python",
   "pygments_lexer": "ipython3",
   "version": "3.9.7"
  }
 },
 "nbformat": 4,
 "nbformat_minor": 5
}
