{
 "cells": [
  {
   "cell_type": "markdown",
   "metadata": {},
   "source": [
    "*Question One:* _List Comprehension_"
   ]
  },
  {
   "cell_type": "markdown",
   "metadata": {},
   "source": [
    "*Question Two:* _Integers_"
   ]
  },
  {
   "cell_type": "code",
   "execution_count": 84,
   "metadata": {},
   "outputs": [
    {
     "name": "stdout",
     "output_type": "stream",
     "text": [
      "[1, 4, 9, 16, 25, 36, 49, 64, 81, 100, 121, 144, 169, 196, 225, 256, 289, 324, 361, 400]\n",
      "[1, 9, 25, 49, 81, 121, 169, 225, 289, 361]\n",
      "[4, 16, 36, 64, 100, 144, 256, 324, 400]\n"
     ]
    }
   ],
   "source": [
    "# Write a python program that outputs the squares of odd numbers from range of 1 to 20\n",
    "\n",
    "rangenumbers = [1*1, 2*2, 3*3, 4*4, 5*5, 6*6, 7*7, 8*8, 9*9, 10*10, 11*11, 12*12, 13*13, 14*14, 15*15, 16*16, 17*17, 18*18, 19*19, 20*20]\n",
    "print(rangenumbers)\n",
    "\n",
    "list = [1, 4, 9, 16, 25, 36, 49, 64, 81, 100, 121, 144, 169, 225, 256, 289, 324,361, 400]\n",
    "only_odd = [num for num in list if num % 2 == 1]\n",
    "print(only_odd)\n",
    "\n",
    "list = [1, 4, 9, 16, 25, 36, 49, 64, 81, 100, 121, 144, 169, 225, 256, 289, 324,361, 400]\n",
    "only_even = [num for num in list if num % 2 == 0]\n",
    "print(only_even)\n",
    "\n",
    "\n",
    "\n"
   ]
  },
  {
   "cell_type": "code",
   "execution_count": 82,
   "metadata": {},
   "outputs": [
    {
     "name": "stdout",
     "output_type": "stream",
     "text": [
      "25 is multiple of 5\n"
     ]
    }
   ],
   "source": [
    "# Write a program to check whether the given integer is a multiple of 5_\n",
    "\n",
    "def isMultipleof5(n):\n",
    "     \n",
    "    while ( n > 0 ):\n",
    "        n = n - 5\n",
    " \n",
    "    if ( n == 0 ):\n",
    "        return 1\n",
    " \n",
    "    return 0\n",
    "     \n",
    "# Driver Code\n",
    "i = 25\n",
    "if ( isMultipleof5(i) == 1 ):\n",
    "    print (i, \"is multiple of 5\")\n",
    "else:\n",
    "    print (i, \"is not a multiple of 5\")"
   ]
  },
  {
   "cell_type": "markdown",
   "metadata": {},
   "source": [
    "*Question Three*: _If Statement_"
   ]
  },
  {
   "cell_type": "code",
   "execution_count": 86,
   "metadata": {},
   "outputs": [
    {
     "name": "stdout",
     "output_type": "stream",
     "text": [
      "11 is a prime number\n"
     ]
    }
   ],
   "source": [
    "# Write a program python program to check whether the given integer is a prime number or not\n",
    "\n",
    "num = 11\n",
    "  \n",
    "# If given number is greater than 1\n",
    "if num > 1:\n",
    "  \n",
    "    # Iterate from 2 to n / 2\n",
    "    for i in range(2, int(num/2)+1):\n",
    "  \n",
    "        # If num is divisible by any number between\n",
    "        # 2 and n / 2, it is not prime\n",
    "        if (num % i) == 0:\n",
    "            print(num, \"is not a prime number\")\n",
    "            break\n",
    "    else:\n",
    "        print(num, \"is a prime number\")\n",
    "  \n",
    "else:\n",
    "    print(num, \"is not a prime number\")"
   ]
  },
  {
   "cell_type": "markdown",
   "metadata": {},
   "source": [
    "*Question Four:* _User-defined Functions_"
   ]
  },
  {
   "cell_type": "code",
   "execution_count": 19,
   "metadata": {},
   "outputs": [
    {
     "name": "stdout",
     "output_type": "stream",
     "text": [
      "7\n",
      "3\n",
      "48\n",
      "3.3333333333333335\n",
      "48.0\n"
     ]
    }
   ],
   "source": [
    "# Write a program to implement a calculator to do basic operations (+,-,*,/)\n",
    "print(3 + 4)\n",
    "print (8 - 5)\n",
    "print(8 * 6)\n",
    "print(20 / 6)\n",
    "print(8 *6 + 4 - 8 / 2)\n"
   ]
  },
  {
   "cell_type": "markdown",
   "metadata": {},
   "source": [
    "*Question Five:* _Dictionaries & For Loop_"
   ]
  },
  {
   "cell_type": "code",
   "execution_count": 11,
   "metadata": {},
   "outputs": [
    {
     "name": "stdout",
     "output_type": "stream",
     "text": [
      "{'Kenya': ['UON', 'TUK', 'KU'], 'USA': ['Harvard', 'Princeton'], 'Canada': ['Alberta', 'Ottawa'], 'Courses': ['Business studies', 'Computer science', 'Medicine']}\n"
     ]
    }
   ],
   "source": [
    "# Create a simple dictionary and write a program to print all the items in your dictionary\n",
    "bestglobaluniversities = {\"Kenya\" : [\"UON\", \"TUK\", \"KU\"], \"USA\" : [\"Harvard\", \"Princeton\"], \"Canada\" : [\"Alberta\", \"Ottawa\"], \"Courses\" : [\"Business studies\", \"Computer science\", \"Medicine\"]}\n",
    "\n",
    "print(bestglobaluniversities)\n"
   ]
  },
  {
   "cell_type": "code",
   "execution_count": 13,
   "metadata": {},
   "outputs": [
    {
     "name": "stdout",
     "output_type": "stream",
     "text": [
      "['UON', 'TUK', 'KU']\n",
      "['Harvard', 'Princeton']\n",
      "['Alberta', 'Ottawa']\n",
      "['Business studies', 'Computer science', 'Medicine']\n"
     ]
    }
   ],
   "source": [
    "#looping of dictionary\n",
    "\n",
    "bestglobaluniversities = {\"Kenya\" : [\"UON\", \"TUK\", \"KU\"], \"USA\" : [\"Harvard\", \"Princeton\"], \"Canada\" : [\"Alberta\", \"Ottawa\"], \"Courses\" : [\"Business studies\", \"Computer science\", \"Medicine\"]}\n",
    "for x in bestglobaluniversities.values():\n",
    "    print(x)"
   ]
  },
  {
   "cell_type": "code",
   "execution_count": 14,
   "metadata": {},
   "outputs": [
    {
     "name": "stdout",
     "output_type": "stream",
     "text": [
      "Kenya ['UON', 'TUK', 'KU']\n",
      "USA ['Harvard', 'Princeton']\n",
      "Canada ['Alberta', 'Ottawa']\n",
      "Courses ['Business studies', 'Computer science', 'Medicine']\n"
     ]
    }
   ],
   "source": [
    "bestglobaluniversities = {\"Kenya\" : [\"UON\", \"TUK\", \"KU\"], \"USA\" : [\"Harvard\", \"Princeton\"], \"Canada\" : [\"Alberta\", \"Ottawa\"], \"Courses\" : [\"Business studies\", \"Computer science\", \"Medicine\"]}\n",
    "for x, y in bestglobaluniversities.items():\n",
    "    print(x, y)"
   ]
  },
  {
   "cell_type": "code",
   "execution_count": null,
   "metadata": {},
   "outputs": [],
   "source": []
  }
 ],
 "metadata": {
  "interpreter": {
   "hash": "1e4af7d8341c13d568efc1f8500c9e0239c4d10084c4659a417b8b188748b437"
  },
  "kernelspec": {
   "display_name": "Python 3 (ipykernel)",
   "language": "python",
   "name": "python3"
  },
  "language_info": {
   "codemirror_mode": {
    "name": "ipython",
    "version": 3
   },
   "file_extension": ".py",
   "mimetype": "text/x-python",
   "name": "python",
   "nbconvert_exporter": "python",
   "pygments_lexer": "ipython3",
   "version": "3.9.7"
  }
 },
 "nbformat": 4,
 "nbformat_minor": 2
}
